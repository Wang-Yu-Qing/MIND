{
 "cells": [
  {
   "cell_type": "code",
   "execution_count": 13,
   "metadata": {},
   "outputs": [],
   "source": [
    "import json\n",
    "import random\n",
    "import itertools\n",
    "import pandas as pd\n",
    "import numpy as np\n",
    "import torch as th\n",
    "\n",
    "\n",
    "class Args:\n",
    "    data_frac = 0.05\n",
    "    min_user_freq = 10\n",
    "    min_book_freq = 10\n",
    "    max_user_freq = 200\n",
    "    train_frac = 0.95\n",
    "    his_len = 100\n",
    "    n_neg = 10\n",
    "\n",
    "    embed_dim = 4\n",
    "    low_cap_dim = 4\n",
    "    high_cap_dim = 4\n",
    "    routing_rounds = 3\n",
    "\n",
    "args = Args()"
   ]
  },
  {
   "cell_type": "code",
   "execution_count": 14,
   "metadata": {},
   "outputs": [],
   "source": [
    "ratings = pd.read_csv(\"data/ratings_Books.csv\", header=None, nrows=500000)\n",
    "ratings.columns = ['userId', 'itemId', 'rate', 'timestamp']\n",
    "\n",
    "# user filtering\n",
    "userFreq = ratings.groupby(['userId'])['userId'].count()\n",
    "validSet = set(userFreq.loc[userFreq >= 20].index)\n",
    "ratings = ratings.loc[ratings['userId'].apply(lambda x: x in validSet), :]\n",
    "\n",
    "# item filtering\n",
    "movieFreq = ratings.groupby(['itemId'])['itemId'].count()\n",
    "validSet = set(movieFreq.loc[movieFreq >= 10].index)\n",
    "ratings = ratings.loc[ratings['itemId'].apply(lambda x: x in validSet), :]"
   ]
  },
  {
   "cell_type": "code",
   "execution_count": 15,
   "metadata": {},
   "outputs": [],
   "source": [
    "# encode users\n",
    "ukv, ikv = list(enumerate(ratings['userId'].unique())), list(enumerate(ratings['itemId'].unique()))\n",
    "userRawId = {encId: rawId for encId, rawId in ukv}\n",
    "userEncId = {rawId: encId for encId, rawId in ukv}\n",
    "\n",
    "# encode items, id 0 is for padding, item encode id start from 1\n",
    "itemRawId = {encId + 1: rawId for encId, rawId in ikv}\n",
    "itemEncId = {rawId: encId + 1 for encId, rawId in ikv}\n",
    "\n",
    "# 编码\n",
    "ratings['userId'] = ratings['userId'].apply(lambda x: userEncId[x])\n",
    "ratings['itemId'] = ratings['itemId'].apply(lambda x: itemEncId[x])\n",
    "\n",
    "ratings.sort_values(by=['userId', 'timestamp'], inplace=True, ignore_index=True)"
   ]
  },
  {
   "cell_type": "code",
   "execution_count": 16,
   "metadata": {},
   "outputs": [
    {
     "data": {
      "text/html": [
       "<div>\n",
       "<style scoped>\n",
       "    .dataframe tbody tr th:only-of-type {\n",
       "        vertical-align: middle;\n",
       "    }\n",
       "\n",
       "    .dataframe tbody tr th {\n",
       "        vertical-align: top;\n",
       "    }\n",
       "\n",
       "    .dataframe thead th {\n",
       "        text-align: right;\n",
       "    }\n",
       "</style>\n",
       "<table border=\"1\" class=\"dataframe\">\n",
       "  <thead>\n",
       "    <tr style=\"text-align: right;\">\n",
       "      <th></th>\n",
       "      <th>userId</th>\n",
       "      <th>itemId</th>\n",
       "      <th>rate</th>\n",
       "      <th>timestamp</th>\n",
       "    </tr>\n",
       "  </thead>\n",
       "  <tbody>\n",
       "    <tr>\n",
       "      <th>0</th>\n",
       "      <td>0</td>\n",
       "      <td>249</td>\n",
       "      <td>4.0</td>\n",
       "      <td>891734400</td>\n",
       "    </tr>\n",
       "    <tr>\n",
       "      <th>1</th>\n",
       "      <td>0</td>\n",
       "      <td>165</td>\n",
       "      <td>4.0</td>\n",
       "      <td>893376000</td>\n",
       "    </tr>\n",
       "    <tr>\n",
       "      <th>2</th>\n",
       "      <td>0</td>\n",
       "      <td>113</td>\n",
       "      <td>5.0</td>\n",
       "      <td>928022400</td>\n",
       "    </tr>\n",
       "    <tr>\n",
       "      <th>3</th>\n",
       "      <td>0</td>\n",
       "      <td>319</td>\n",
       "      <td>5.0</td>\n",
       "      <td>949363200</td>\n",
       "    </tr>\n",
       "    <tr>\n",
       "      <th>4</th>\n",
       "      <td>0</td>\n",
       "      <td>439</td>\n",
       "      <td>3.0</td>\n",
       "      <td>1014163200</td>\n",
       "    </tr>\n",
       "    <tr>\n",
       "      <th>...</th>\n",
       "      <td>...</td>\n",
       "      <td>...</td>\n",
       "      <td>...</td>\n",
       "      <td>...</td>\n",
       "    </tr>\n",
       "    <tr>\n",
       "      <th>9509</th>\n",
       "      <td>646</td>\n",
       "      <td>385</td>\n",
       "      <td>5.0</td>\n",
       "      <td>1224892800</td>\n",
       "    </tr>\n",
       "    <tr>\n",
       "      <th>9510</th>\n",
       "      <td>646</td>\n",
       "      <td>386</td>\n",
       "      <td>5.0</td>\n",
       "      <td>1257120000</td>\n",
       "    </tr>\n",
       "    <tr>\n",
       "      <th>9511</th>\n",
       "      <td>647</td>\n",
       "      <td>385</td>\n",
       "      <td>4.0</td>\n",
       "      <td>1295136000</td>\n",
       "    </tr>\n",
       "    <tr>\n",
       "      <th>9512</th>\n",
       "      <td>647</td>\n",
       "      <td>475</td>\n",
       "      <td>5.0</td>\n",
       "      <td>1296259200</td>\n",
       "    </tr>\n",
       "    <tr>\n",
       "      <th>9513</th>\n",
       "      <td>648</td>\n",
       "      <td>423</td>\n",
       "      <td>5.0</td>\n",
       "      <td>1074211200</td>\n",
       "    </tr>\n",
       "  </tbody>\n",
       "</table>\n",
       "<p>9514 rows × 4 columns</p>\n",
       "</div>"
      ],
      "text/plain": [
       "      userId  itemId  rate   timestamp\n",
       "0          0     249   4.0   891734400\n",
       "1          0     165   4.0   893376000\n",
       "2          0     113   5.0   928022400\n",
       "3          0     319   5.0   949363200\n",
       "4          0     439   3.0  1014163200\n",
       "...      ...     ...   ...         ...\n",
       "9509     646     385   5.0  1224892800\n",
       "9510     646     386   5.0  1257120000\n",
       "9511     647     385   4.0  1295136000\n",
       "9512     647     475   5.0  1296259200\n",
       "9513     648     423   5.0  1074211200\n",
       "\n",
       "[9514 rows x 4 columns]"
      ]
     },
     "execution_count": 16,
     "metadata": {},
     "output_type": "execute_result"
    }
   ],
   "source": [
    "ratings"
   ]
  },
  {
   "cell_type": "code",
   "execution_count": 17,
   "metadata": {},
   "outputs": [],
   "source": [
    "def padOrCut(seq, l):\n",
    "    if (len(seq) < l): return np.concatenate([seq, (l - len(seq)) * [0]])\n",
    "    elif (len(seq) > l): return seq[:l]\n",
    "    else: return seq\n",
    "\n",
    "# generate user sample by sliding window\n",
    "def genUserSamples(df):\n",
    "    winSize = 15\n",
    "    df.reset_index(drop=True, inplace=True)\n",
    "    X, Y = [], []\n",
    "    for i in range(1, df.shape[0]): # enumerate y\n",
    "        # x = window [i - winSize, i - 1], y = item[i]\n",
    "        X.append(padOrCut(df.iloc[max(0, i - winSize):i]['itemId'].values, winSize))\n",
    "        Y.append(df.iloc[i]['itemId'])\n",
    "    # split train and test as 9:1\n",
    "    i = int(len(X) * 0.9)\n",
    "    trainX, testX = X[:i], X[i:]\n",
    "    trainY, testY = Y[:i], Y[i:]\n",
    "\n",
    "    return (np.stack(trainX), np.stack(trainY)), (np.stack(testX), np.stack(testY))\n",
    "\n",
    "ratings = ratings.groupby('userId').filter(lambda x: x.shape[0] >= 10).groupby('userId').apply(genUserSamples)\n",
    "trainX = np.concatenate(ratings.apply(lambda x: x[0][0]).values)\n",
    "trainY = np.concatenate(ratings.apply(lambda x: x[0][1]).values)\n",
    "testX = np.concatenate(ratings.apply(lambda x: x[1][0]).values)\n",
    "testY = np.concatenate(ratings.apply(lambda x: x[1][1]).values)"
   ]
  },
  {
   "cell_type": "code",
   "execution_count": 18,
   "metadata": {},
   "outputs": [
    {
     "data": {
      "text/plain": [
       "array([[249,   0,   0, ...,   0,   0,   0],\n",
       "       [249, 165,   0, ...,   0,   0,   0],\n",
       "       [249, 165, 113, ...,   0,   0,   0],\n",
       "       ...,\n",
       "       [381, 353, 246, ...,   0,   0,   0],\n",
       "       [381, 353, 246, ...,   0,   0,   0],\n",
       "       [381, 353, 246, ...,   0,   0,   0]], dtype=int64)"
      ]
     },
     "execution_count": 18,
     "metadata": {},
     "output_type": "execute_result"
    }
   ],
   "source": [
    "trainX"
   ]
  },
  {
   "cell_type": "code",
   "execution_count": null,
   "metadata": {},
   "outputs": [],
   "source": []
  },
  {
   "cell_type": "code",
   "execution_count": null,
   "metadata": {},
   "outputs": [],
   "source": []
  },
  {
   "cell_type": "code",
   "execution_count": 4,
   "metadata": {},
   "outputs": [
    {
     "name": "stdout",
     "output_type": "stream",
     "text": [
      "[tensor([ 991, 1419], dtype=torch.int32), tensor([[    0,     0,     0,     0,     0,     0,     0,     0,     0,     0,\n",
      "             0,     0,     0,     0,     0,     0,     0,     0,     0,     0,\n",
      "             0,     0,     0,     0,     0,     0,     0,     0,     0,     0,\n",
      "             0,     0,     0,     0,     0,     0,     0,     0,     0,     0,\n",
      "             0,     0,     0,     0,     0,     0,     0,     0,     0,     0,\n",
      "             0,     0,     0,     0,     0,     0,     0,     0,     0, 10670,\n",
      "           720,  8137,  6122,  3848, 11125,  9861,  7772,  9289,  8462,  8916,\n",
      "          6065,  1100,  8791,  9993,  6612,  3766,  2207,   985,  1204,  9675,\n",
      "         10062,  2676,   998, 12731,  3525,  4816,  9201,  2549,  7251,  2996,\n",
      "          2709, 11376, 12791,  9222,  7696,  7779,  1578,  3996,  4603,  2121],\n",
      "        [ 8748,  8361,  5610,  8590,  2146,  1289,  4157,   846,  6493, 11486,\n",
      "          7967, 12198,  3308,  3705,  3538, 11498, 10359,  5002,  5921,  9384,\n",
      "         12745, 11250,  6315,  7694,  7278,  9090,  7476,  2912, 10968,  4031,\n",
      "          8807,  3895,  1373,  2657,  5513,  5495,  9452,  9800,   525,  3163,\n",
      "          8664,  4693,  6356,  5948,  3159, 11564,  4139,  1076,  8938,  3173,\n",
      "          4064,  3840, 11469,  3401,  5348,  8272,  2785,  5784,  4859,  9036,\n",
      "         10956,  5746, 10999,   159, 10128,  4657,  1173, 10943, 11372, 10223,\n",
      "           192, 10666,  4037,  1331, 11896,  8183,  4589,  3425,   925,  8793,\n",
      "          1318, 11993, 13026, 11438,  8628,   676, 10403,   815, 10538,  2827,\n",
      "          9428,  7396,  6756,  8849,  4557, 11862, 12664,  7716, 13050,  3615]],\n",
      "       dtype=torch.int32), tensor([2844,  197], dtype=torch.int32), tensor([0., 0.]), tensor([4, 4], dtype=torch.int32)]\n"
     ]
    }
   ],
   "source": [
    "class Dataset:\n",
    "    def __init__(self, samples):\n",
    "        self.samples = samples\n",
    "        self.users, self.histories, self.tars, self.labels, self.cap_nums = [], [], [], [], []\n",
    "        for sample in samples:\n",
    "            self.users.append(sample['user'])\n",
    "            self.histories.append(sample['his'])\n",
    "            self.tars.append(sample['tar'])\n",
    "            self.labels.append(sample['label'])\n",
    "            self.cap_nums.append(sample['cap_num'])\n",
    "        self.users = th.tensor(self.users, dtype=th.int32)\n",
    "        self.histories = th.tensor(self.histories, dtype=th.int32)\n",
    "        self.tars = th.tensor(self.tars, dtype=th.int32)\n",
    "        self.labels = th.tensor(self.labels, dtype=th.float)\n",
    "        self.cap_nums = th.tensor(self.cap_nums, dtype=th.int32)\n",
    "    \n",
    "    def __getitem__(self, idx):\n",
    "        return self.users[idx], self.histories[idx], self.tars[idx], self.labels[idx], self.cap_nums[idx]\n",
    "    \n",
    "    def __len__(self):\n",
    "        return len(self.samples)\n",
    "\n",
    "test_dataset = Dataset(test_samples)\n",
    "\n",
    "test_dataloader = \\\n",
    "    th.utils.data.DataLoader(test_dataset, batch_size=2, shuffle=True)\n",
    "\n",
    "for batch in test_dataloader:\n",
    "    print(batch)\n",
    "    break"
   ]
  },
  {
   "cell_type": "code",
   "execution_count": null,
   "metadata": {},
   "outputs": [],
   "source": [
    "class Capsule(th.nn.Module):\n",
    "    def __init__(self, ):\n",
    "        pass\n",
    "\n",
    "\n",
    "class MIND(th.nn.Module):\n",
    "    def __init__(self, args, n_users, n_books):\n",
    "        self.embed_dim = args.embed_dim\n",
    "        self.n_caps_high = args.k\n",
    "        self.n_caps_low = args.his_len\n",
    "        # trainable weights\n",
    "        self.user_embeds = th.nn.Embedding(n_users, args.dim)\n",
    "        self.book_embeds = th.nn.Embedding(n_books, args.dim)\n",
    "        self.S = th.nn.Linear(args.low_cap_dim, args.high_cap_dim)\n",
    "    \n",
    "    @staticmethod\n",
    "    def squash(x):\n",
    "        \"\"\"\n",
    "            @x: (batch_size, d)\n",
    "        \"\"\"\n",
    "        l2_norm = th.linalg.norm(x, dim = 1, ord=2) # (batch_size, )\n",
    "        l2_norm_squared = th.pow(l2_norm, 2) # (batch_size, )\n",
    "        scale = l2_norm_squared / (1 + l2_norm_squared) / l2_norm # (batch_size, )\n",
    "\n",
    "        return th.multiply(x, th.unsqueeze(scale, dim=1)) # (batch_size, d)\n",
    "        \n",
    "\n",
    "    def forward(self, batch):\n",
    "        user_id, history, tars, labels, num_caps = batch[0], batch[1], batch[2], batch[3], batch[4]\n",
    "        his_embeds = self.book_embeds(history) # (batch_size, his_len, dim)]\n",
    "\n"
   ]
  },
  {
   "cell_type": "code",
   "execution_count": 71,
   "metadata": {},
   "outputs": [
    {
     "name": "stdout",
     "output_type": "stream",
     "text": [
      "tensor([0.1767, 0.1615])\n"
     ]
    },
    {
     "data": {
      "text/plain": [
       "tensor([[0.1767, 0.3534, 0.5301, 0.7067],\n",
       "        [0.1777, 0.3554, 0.5330, 0.7107]])"
      ]
     },
     "execution_count": 71,
     "metadata": {},
     "output_type": "execute_result"
    }
   ],
   "source": [
    "x = th.tensor([[1, 2, 3, 4], [1.1, 2.2, 3.3, 4.4]], dtype=th.float32)\n"
   ]
  },
  {
   "cell_type": "code",
   "execution_count": 57,
   "metadata": {},
   "outputs": [
    {
     "name": "stdout",
     "output_type": "stream",
     "text": [
      "tensor([[1., 2., 3., 4.],\n",
      "        [1., 2., 3., 4.]])\n",
      "tensor([5.4772, 5.4772])\n"
     ]
    },
    {
     "ename": "RuntimeError",
     "evalue": "The size of tensor a (4) must match the size of tensor b (2) at non-singleton dimension 1",
     "output_type": "error",
     "traceback": [
      "\u001b[0;31m---------------------------------------------------------------------------\u001b[0m",
      "\u001b[0;31mRuntimeError\u001b[0m                              Traceback (most recent call last)",
      "\u001b[0;32m/var/folders/ql/hnsc7cgj6kl1w_vdy3mjn5r40000gn/T/ipykernel_1646/3649561962.py\u001b[0m in \u001b[0;36m<module>\u001b[0;34m\u001b[0m\n\u001b[1;32m      1\u001b[0m \u001b[0mprint\u001b[0m\u001b[0;34m(\u001b[0m\u001b[0mx\u001b[0m\u001b[0;34m)\u001b[0m\u001b[0;34m\u001b[0m\u001b[0;34m\u001b[0m\u001b[0m\n\u001b[1;32m      2\u001b[0m \u001b[0mprint\u001b[0m\u001b[0;34m(\u001b[0m\u001b[0ml2_norm\u001b[0m\u001b[0;34m)\u001b[0m\u001b[0;34m\u001b[0m\u001b[0;34m\u001b[0m\u001b[0m\n\u001b[0;32m----> 3\u001b[0;31m \u001b[0mth\u001b[0m\u001b[0;34m.\u001b[0m\u001b[0mdiv\u001b[0m\u001b[0;34m(\u001b[0m\u001b[0mx\u001b[0m\u001b[0;34m,\u001b[0m \u001b[0ml2_norm\u001b[0m\u001b[0;34m)\u001b[0m\u001b[0;34m\u001b[0m\u001b[0;34m\u001b[0m\u001b[0m\n\u001b[0m",
      "\u001b[0;31mRuntimeError\u001b[0m: The size of tensor a (4) must match the size of tensor b (2) at non-singleton dimension 1"
     ]
    }
   ],
   "source": [
    "print(x)\n",
    "print(l2_norm)\n",
    "th.div(x, l2_norm)"
   ]
  },
  {
   "cell_type": "code",
   "execution_count": 62,
   "metadata": {},
   "outputs": [
    {
     "name": "stdout",
     "output_type": "stream",
     "text": [
      "tensor([ 0.8032,  0.2930, -0.8113, -0.2308])\n",
      "tensor([1., 1., 1., 1.])\n"
     ]
    }
   ],
   "source": [
    "b = th.tensor([ 0.8032,  0.2930, -0.8113, -0.2308])\n",
    "print(b)\n",
    "print(b / b)"
   ]
  },
  {
   "cell_type": "code",
   "execution_count": 72,
   "metadata": {},
   "outputs": [
    {
     "data": {
      "text/plain": [
       "[0.17767943554457133,\n",
       " 0.35535887108914266,\n",
       " 0.533038306633714,\n",
       " 0.7107177421782853]"
      ]
     },
     "execution_count": 72,
     "metadata": {},
     "output_type": "execute_result"
    }
   ],
   "source": [
    "import math\n",
    "\n",
    "x = [1.1, 2.2, 3.3, 4.4]\n",
    "\n",
    "l2 = math.sqrt(sum([xx * xx for xx in x]))\n",
    "l2_squred = l2 * l2\n",
    "\n",
    "\n",
    "scale = l2_squred / (1 + l2_squred) / l2\n",
    "\n",
    "[scale * xx for xx in x]"
   ]
  },
  {
   "cell_type": "code",
   "execution_count": null,
   "metadata": {},
   "outputs": [],
   "source": [
    "5.477225575051661"
   ]
  }
 ],
 "metadata": {
  "kernelspec": {
   "display_name": "Python 3",
   "language": "python",
   "name": "python3"
  },
  "language_info": {
   "codemirror_mode": {
    "name": "ipython",
    "version": 3
   },
   "file_extension": ".py",
   "mimetype": "text/x-python",
   "name": "python",
   "nbconvert_exporter": "python",
   "pygments_lexer": "ipython3",
   "version": "3.7.7"
  },
  "orig_nbformat": 4,
  "vscode": {
   "interpreter": {
    "hash": "252189e587d1e2aeba4a06e91fa71896c7a7f6e22e918b9407c7cde4ef2d5985"
   }
  }
 },
 "nbformat": 4,
 "nbformat_minor": 2
}
