{
 "cells": [
  {
   "cell_type": "code",
   "execution_count": 1,
   "metadata": {},
   "outputs": [],
   "source": [
    "from utils import *\n",
    "import json\n",
    "import random\n",
    "import pandas as pd\n",
    "import numpy as np\n",
    "\n",
    "class Args:\n",
    "    data_frac = 0.3\n",
    "    min_user_freq = 10\n",
    "    min_book_freq = 10\n",
    "    max_user_freq = 200\n",
    "    train_frac = 0.95\n",
    "    his_len = 100\n",
    "    n_neg = 10\n",
    "\n",
    "\n",
    "args = Args()\n"
   ]
  },
  {
   "cell_type": "code",
   "execution_count": 4,
   "metadata": {},
   "outputs": [],
   "source": [
    "test_samples = pkl_read('data/test_samples.pkl')"
   ]
  },
  {
   "cell_type": "code",
   "execution_count": 6,
   "metadata": {},
   "outputs": [
    {
     "data": {
      "text/plain": [
       "{'his': array([0, 0, 0, 0, 0, 0, 0, 0, 0, 0, 0, 0, 0, 0, 0, 0, 0, 0, 0, 0, 0, 0,\n",
       "        0, '0099270234', '0425158594', '0451194861', '0451159330',\n",
       "        '0441014100', '0060573775', '0060510862', '031218087X',\n",
       "        '0879979798', '038072345X', '0140390464', '0385479565',\n",
       "        '0451191137', '0099427869', '034538475X', '0345389409',\n",
       "        '0451194004', '0385418485', '0553280945', '0312963009',\n",
       "        '034071820X', '0141040343', '0060098902', '0671042858',\n",
       "        '0345487133', '0811825558', '0060191988', '0440224071',\n",
       "        '0141439688', '0440225345', '0553572997', '0140434135',\n",
       "        '0060755334', '0684843323', '0446523364', '0684843749',\n",
       "        '0671028448', '0399144986', '0671024256', '0679722319',\n",
       "        '0944092691', '0679601724', '0140042520', '0553208845',\n",
       "        '031286504X', '0307021343', '0743211383', '0399145761',\n",
       "        '0345444884', '0375503803', '0345441036', '0316013684',\n",
       "        '0060976241', '0786114398', '0452280028', '0684836270',\n",
       "        '0340770732', '0452279070', '0062314254', '0060890096',\n",
       "        '0671792253', '0140012486', '0060741872', '0340837950',\n",
       "        '0099285045', '014118776X', '0375724427', '0140185232',\n",
       "        '0345350472', '014014773X', '0375834958', '0060930187',\n",
       "        '0312420234', '031242759X', '0345410084', '067943335X',\n",
       "        '0340770708'], dtype=object),\n",
       " 'tar': '006196266X',\n",
       " 'label': 0}"
      ]
     },
     "execution_count": 6,
     "metadata": {},
     "output_type": "execute_result"
    }
   ],
   "source": []
  },
  {
   "cell_type": "code",
   "execution_count": null,
   "metadata": {},
   "outputs": [],
   "source": []
  }
 ],
 "metadata": {
  "kernelspec": {
   "display_name": "Python 3.7.10 ('dgl')",
   "language": "python",
   "name": "python3"
  },
  "language_info": {
   "codemirror_mode": {
    "name": "ipython",
    "version": 3
   },
   "file_extension": ".py",
   "mimetype": "text/x-python",
   "name": "python",
   "nbconvert_exporter": "python",
   "pygments_lexer": "ipython3",
   "version": "3.7.10"
  },
  "orig_nbformat": 4,
  "vscode": {
   "interpreter": {
    "hash": "c808db68c8b2bdb007ce37ba3160577cca0b4011c75e61cf50739d44895fcf81"
   }
  }
 },
 "nbformat": 4,
 "nbformat_minor": 2
}
