{
 "cells": [
  {
   "cell_type": "code",
   "execution_count": 3,
   "metadata": {},
   "outputs": [],
   "source": [
    "import json\n",
    "\n",
    "class Args:\n",
    "    min_user_freq = 10\n",
    "    min_book_freq = 10\n",
    "    max_user_freq = 200\n",
    "\n",
    "args = Args()\n"
   ]
  },
  {
   "cell_type": "code",
   "execution_count": 2,
   "metadata": {},
   "outputs": [],
   "source": [
    "def get_valid_user_and_book_set():\n",
    "    user_freq, book_freq = {}, {}\n",
    "    with open('data/ratings_Books.csv', 'r') as f:\n",
    "        for line in f.readlines():\n",
    "            # user, item, rating, timestamp\n",
    "            splitted = line.split(\",\")\n",
    "            try:\n",
    "                user_freq[splitted[0]] += 1\n",
    "            except KeyError:\n",
    "                user_freq[splitted[0]] = 1\n",
    "            try:\n",
    "                book_freq[splitted[1]] += 1\n",
    "            except KeyError:\n",
    "                book_freq[splitted[1]] = 1\n",
    "\n",
    "    valid_users = set([user_id for user_id, cnt in user_freq.items() if cnt >= args.min_user_freq and cnt <= args.max_user_freq])\n",
    "    valid_books = set([book_id for book_id, cnt in book_freq.items() if cnt >= args.min_book_freq])\n",
    "\n",
    "    return valid_users, valid_books\n",
    "\n",
    "\n",
    "def parse_user_data(valid_users, valid_books):\n",
    "    user_ratings = {}\n",
    "    with open('data/ratings_Books.csv', 'r') as f:\n",
    "        for line in f.readlines():\n",
    "            line = line[:-1]\n",
    "            splitted = line.split(\",\")\n",
    "            user_id, book_id = splitted[0], splitted[1]\n",
    "            if user_id in valid_users and book_id in valid_books:\n",
    "                try:\n",
    "                    # not using rating here\n",
    "                    user_ratings[user_id].append((book_id, int(splitted[-1])))\n",
    "                except KeyError:\n",
    "                    user_ratings[user_id] = [(book_id, int(splitted[-1]))]\n",
    "\n",
    "    return user_ratings\n",
    "\n",
    "\n",
    "valid_users, valid_books = get_valid_user_and_book_set()\n",
    "user_ratings = parse_user_data(valid_users, valid_books)\n"
   ]
  },
  {
   "cell_type": "code",
   "execution_count": 8,
   "metadata": {},
   "outputs": [],
   "source": [
    "def read_book_meta(valid_books):\n",
    "    book_cates = {}\n",
    "    with open(\"data/meta_Books.json\", \"r\") as f:\n",
    "        for line in f.readlines():\n",
    "            meta = json.loads(line[:-1])\n",
    "            if meta['asin'] in valid_books:\n",
    "                book_cates[meta['asin']] = meta['category']\n",
    "\n",
    "    return book_cates\n",
    "\n",
    "book_cates = read_book_meta(valid_books)\n",
    "\n"
   ]
  },
  {
   "cell_type": "code",
   "execution_count": null,
   "metadata": {},
   "outputs": [],
   "source": [
    "def encode_user"
   ]
  },
  {
   "cell_type": "markdown",
   "metadata": {},
   "source": [
    "1. Each rating action reflect user's interest upon that book, so each rating action is one postive sample.\n",
    "2. Split all the rating actions to 19:1 as described in the paper.\n",
    "3. From each rating action, use that user's rating actions before the current rating time as history behaviors.\n",
    "4. For negative samples, just randomly draw from the whole book pool."
   ]
  },
  {
   "cell_type": "code",
   "execution_count": 10,
   "metadata": {},
   "outputs": [
    {
     "data": {
      "text/plain": [
       "['0000230022',\n",
       " '000100039X',\n",
       " '0001473727',\n",
       " '0001472933',\n",
       " '0001473123',\n",
       " '000171287X',\n",
       " '0001711296',\n",
       " '0001714384',\n",
       " '0001954563',\n",
       " '0002005395']"
      ]
     },
     "execution_count": 10,
     "metadata": {},
     "output_type": "execute_result"
    }
   ],
   "source": []
  },
  {
   "cell_type": "code",
   "execution_count": 16,
   "metadata": {},
   "outputs": [
    {
     "data": {
      "text/plain": [
       "['Books', \"Children's Books\", 'Literature & Fiction']"
      ]
     },
     "execution_count": 16,
     "metadata": {},
     "output_type": "execute_result"
    }
   ],
   "source": [
    "book_cates['000171287X']"
   ]
  },
  {
   "cell_type": "code",
   "execution_count": null,
   "metadata": {},
   "outputs": [],
   "source": []
  }
 ],
 "metadata": {
  "interpreter": {
   "hash": "3894a4b9a5814a88125efc0e877c968a4cf939000792f7dcd4aa6da3660f1e61"
  },
  "kernelspec": {
   "display_name": "Python 3.8.13 ('dgl')",
   "language": "python",
   "name": "python3"
  },
  "language_info": {
   "codemirror_mode": {
    "name": "ipython",
    "version": 3
   },
   "file_extension": ".py",
   "mimetype": "text/x-python",
   "name": "python",
   "nbconvert_exporter": "python",
   "pygments_lexer": "ipython3",
   "version": "3.8.13"
  },
  "orig_nbformat": 4,
  "vscode": {
   "interpreter": {
    "hash": "c808db68c8b2bdb007ce37ba3160577cca0b4011c75e61cf50739d44895fcf81"
   }
  }
 },
 "nbformat": 4,
 "nbformat_minor": 2
}
