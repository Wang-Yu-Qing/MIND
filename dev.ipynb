{
 "cells": [
  {
   "cell_type": "code",
   "execution_count": 8,
   "metadata": {},
   "outputs": [],
   "source": [
    "from utils import *\n",
    "import json\n",
    "import random\n",
    "import pandas as pd\n",
    "import numpy as np\n",
    "import torch as th\n",
    "\n",
    "\n",
    "class Args:\n",
    "    data_frac = 0.3\n",
    "    min_user_freq = 10\n",
    "    min_book_freq = 10\n",
    "    max_user_freq = 200\n",
    "    train_frac = 0.95\n",
    "    his_len = 100\n",
    "    n_neg = 10\n",
    "\n",
    "\n",
    "args = Args()\n"
   ]
  },
  {
   "cell_type": "code",
   "execution_count": 16,
   "metadata": {},
   "outputs": [],
   "source": [
    "test_samples = pkl_read('data/test_samples.pkl', None)"
   ]
  },
  {
   "cell_type": "code",
   "execution_count": 35,
   "metadata": {},
   "outputs": [],
   "source": [
    "class Dataset:\n",
    "    def __init__(self, samples):\n",
    "        self.samples = samples\n",
    "        self.users, self.histories, self.tars, self.labels = [], [], [], []\n",
    "        for sample in samples:\n",
    "            self.users.append(sample['user'])\n",
    "            self.histories.append(sample['his'])\n",
    "            self.tars.append(sample['tar'])\n",
    "            self.labels.append(sample['label'])\n",
    "        self.users = th.tensor(self.users, dtype=th.int32)\n",
    "        self.histories = th.tensor(self.histories, dtype=th.int32)\n",
    "        self.tars = th.tensor(self.tars, dtype=th.int32)\n",
    "        self.labels = th.tensor(self.labels, dtype=th.float)\n",
    "    \n",
    "    def __getitem__(self, idx):\n",
    "        return self.users[idx], self.histories[idx], self.tars[idx], self.labels[idx]\n",
    "    \n",
    "    def __len__(self):\n",
    "        return len(self.samples)\n",
    "\n",
    "test_dataset = Dataset(test_samples)\n",
    "\n",
    "test_dataloader = \\\n",
    "    th.utils.data.DataLoader(test_dataset, batch_size=2, shuffle=True)\n"
   ]
  },
  {
   "cell_type": "code",
   "execution_count": 40,
   "metadata": {},
   "outputs": [
    {
     "name": "stdout",
     "output_type": "stream",
     "text": [
      "torch.Size([2])\n",
      "torch.Size([2])\n",
      "torch.Size([2])\n",
      "torch.Size([2])\n",
      "torch.Size([2])\n",
      "torch.Size([2])\n"
     ]
    }
   ],
   "source": [
    "\n",
    "class MIND(th.nn.Module):\n",
    "    def __init__(self, args, n_users, n_books, n_book_cates):\n",
    "        self.dim = args.dim\n",
    "        self.user_embeds = th.nn.Embedding(n_users, args.dim)\n",
    "        self.book_embeds = th.nn.Embedding(n_books, args.dim)\n",
    "        self.book_tag_embeds = th.nn.Embedding(n_book_cates, args.dim)\n",
    "\n",
    "\n",
    "    def forward(self, batch):\n",
    "        user_id, history, tars, labels = batch[0], batch[1], batch[2], batch[3]"
   ]
  },
  {
   "cell_type": "code",
   "execution_count": null,
   "metadata": {},
   "outputs": [],
   "source": []
  }
 ],
 "metadata": {
  "kernelspec": {
   "display_name": "Python 3.7.10 ('dgl')",
   "language": "python",
   "name": "python3"
  },
  "language_info": {
   "codemirror_mode": {
    "name": "ipython",
    "version": 3
   },
   "file_extension": ".py",
   "mimetype": "text/x-python",
   "name": "python",
   "nbconvert_exporter": "python",
   "pygments_lexer": "ipython3",
   "version": "3.7.10"
  },
  "orig_nbformat": 4,
  "vscode": {
   "interpreter": {
    "hash": "c808db68c8b2bdb007ce37ba3160577cca0b4011c75e61cf50739d44895fcf81"
   }
  }
 },
 "nbformat": 4,
 "nbformat_minor": 2
}
