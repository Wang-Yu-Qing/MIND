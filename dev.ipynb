{
 "cells": [
  {
   "cell_type": "code",
   "execution_count": 1,
   "metadata": {},
   "outputs": [
    {
     "name": "stdout",
     "output_type": "stream",
     "text": [
      "AH2L9G3DQHHAJ,0000000116,4.0,1019865600\n",
      "\n",
      "A2IIIDRK3PRRZY,0000000116,1.0,1395619200\n",
      "\n",
      "A1TADCM7YWPQ8M,0000000868,4.0,1031702400\n",
      "\n",
      "AWGH7V0BDOJKB,0000013714,4.0,1383177600\n",
      "\n",
      "A3UTQPQPM4TQO0,0000013714,5.0,1374883200\n",
      "\n",
      "A8ZS0I5L5V31B,0000013714,5.0,1393632000\n",
      "\n",
      "ACNGUPJ3A3TM9,0000013714,4.0,1386028800\n",
      "\n",
      "A3BED5QFJWK88M,0000013714,4.0,1350345600\n",
      "\n",
      "A2SUAM1J3GNN3B,0000013714,5.0,1252800000\n",
      "\n",
      "APOZ15IEYQRRR,0000013714,5.0,1362787200\n",
      "\n"
     ]
    }
   ],
   "source": [
    "with open('data/ratings_Books.csv', 'r') as f:\n",
    "    cnt = 0\n",
    "    for line in f.readlines():\n",
    "        # user, item, rating, timestamp\n",
    "        print(line)\n",
    "        cnt += 1\n",
    "        if cnt == 10:\n",
    "            break"
   ]
  },
  {
   "cell_type": "code",
   "execution_count": null,
   "metadata": {},
   "outputs": [],
   "source": []
  }
 ],
 "metadata": {
  "kernelspec": {
   "display_name": "Python 3.7.10 ('dgl')",
   "language": "python",
   "name": "python3"
  },
  "language_info": {
   "codemirror_mode": {
    "name": "ipython",
    "version": 3
   },
   "file_extension": ".py",
   "mimetype": "text/x-python",
   "name": "python",
   "nbconvert_exporter": "python",
   "pygments_lexer": "ipython3",
   "version": "3.7.10"
  },
  "orig_nbformat": 4,
  "vscode": {
   "interpreter": {
    "hash": "c808db68c8b2bdb007ce37ba3160577cca0b4011c75e61cf50739d44895fcf81"
   }
  }
 },
 "nbformat": 4,
 "nbformat_minor": 2
}
