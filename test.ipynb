{
 "cells": [
  {
   "cell_type": "code",
   "execution_count": 1,
   "metadata": {},
   "outputs": [],
   "source": [
    "from utils import *\n",
    "import json\n",
    "import random\n",
    "import pandas as pd\n",
    "import numpy as np\n",
    "import torch as th\n",
    "\n",
    "\n",
    "class Args:\n",
    "    data_frac = 0.3\n",
    "    min_user_freq = 10\n",
    "    min_book_freq = 10\n",
    "    max_user_freq = 200\n",
    "    train_frac = 0.95\n",
    "    his_len = 100\n",
    "    n_neg = 10\n",
    "\n",
    "\n",
    "args = Args()\n"
   ]
  },
  {
   "cell_type": "code",
   "execution_count": 16,
   "metadata": {},
   "outputs": [],
   "source": [
    "test_samples = pkl_read('data/test_samples.pkl', None)"
   ]
  },
  {
   "cell_type": "code",
   "execution_count": 13,
   "metadata": {},
   "outputs": [
    {
     "name": "stdout",
     "output_type": "stream",
     "text": [
      "batch 0\n",
      "cap 0\n",
      "tensor([0.7386, 0.0402])\n",
      "tensor([ 2.0551, -0.7286])\n",
      "cap 1\n",
      "tensor([0.4266, 0.6307])\n",
      "tensor([0.6234, 0.3287])\n",
      "cap 2\n",
      "tensor([0.5516, 1.4071])\n",
      "tensor([-0.5060, -0.9031])\n",
      "cap 3\n",
      "tensor([0.7027, 1.4347])\n",
      "tensor([-1.5141, -1.8416])\n",
      "batch 1\n",
      "cap 0\n",
      "tensor([-0.8517,  1.0983])\n",
      "tensor([-0.5928,  0.0627])\n",
      "cap 1\n",
      "tensor([0.7751, 0.9237])\n",
      "tensor([0.9809, 0.6060])\n",
      "cap 2\n",
      "tensor([0.9317, 1.8818])\n",
      "tensor([-0.8118, -1.0031])\n",
      "cap 3\n",
      "tensor([-5.2061, -1.5969])\n",
      "tensor([-5.8053,  1.6262])\n"
     ]
    }
   ],
   "source": [
    "i = 4\n",
    "j = 2\n",
    "dim = 2\n",
    "\n",
    "w = th.empty(i, j, dim, dim)\n",
    "th.nn.init.normal_(w)\n",
    "#print(w)\n",
    "\n",
    "batch_size = 4\n",
    "vecs = th.empty(batch_size, i, dim)\n",
    "th.nn.init.normal_(vecs)\n",
    "#print(vecs)"
   ]
  },
  {
   "cell_type": "code",
   "execution_count": null,
   "metadata": {},
   "outputs": [],
   "source": [
    "\n",
    "# batch 0\n",
    "print(\"batch 0\")\n",
    "print(\"cap 0\")\n",
    "# vec 0, out 0\n",
    "print(th.matmul(vecs[0][0], w[0][0]))\n",
    "# vec 0, out 1\n",
    "print(th.matmul(vecs[0][0], w[0][1]))\n",
    "print(\"cap 1\")\n",
    "# vec 1, out 0\n",
    "print(th.matmul(vecs[0][1], w[1][0]))\n",
    "# vec 1, out 1\n",
    "print(th.matmul(vecs[0][1], w[1][1]))\n",
    "print(\"cap 2\")\n",
    "# vec 2, out 0\n",
    "print(th.matmul(vecs[0][2], w[2][0]))\n",
    "# vec 2, out 1\n",
    "print(th.matmul(vecs[0][2], w[2][1]))\n",
    "print(\"cap 3\")\n",
    "# vec 3, out 0\n",
    "print(th.matmul(vecs[0][3], w[3][0]))\n",
    "# vec 3, out 1\n",
    "print(th.matmul(vecs[0][3], w[3][1]))\n",
    "\n",
    "\n",
    "# desired output\n",
    "# batch 1\n",
    "print(\"batch 1\")\n",
    "print(\"cap 0\")\n",
    "# vec 0, out 0\n",
    "print(th.matmul(vecs[1][0], w[0][0]))\n",
    "# vec 0, out 1\n",
    "print(th.matmul(vecs[1][0], w[0][1]))\n",
    "print(\"cap 1\")\n",
    "# vec 1, out 0\n",
    "print(th.matmul(vecs[1][1], w[1][0]))\n",
    "# vec 1, out 1\n",
    "print(th.matmul(vecs[1][1], w[1][1]))\n",
    "print(\"cap 2\")\n",
    "# vec 2, out 0\n",
    "print(th.matmul(vecs[1][2], w[2][0]))\n",
    "# vec 2, out 1\n",
    "print(th.matmul(vecs[1][2], w[2][1]))\n",
    "print(\"cap 3\")\n",
    "# vec 3, out 0\n",
    "print(th.matmul(vecs[1][3], w[3][0]))\n",
    "# vec 3, out 1\n",
    "print(th.matmul(vecs[1][3], w[3][1]))"
   ]
  }
 ],
 "metadata": {
  "kernelspec": {
   "display_name": "Python 3.7.7 64-bit",
   "language": "python",
   "name": "python3"
  },
  "language_info": {
   "codemirror_mode": {
    "name": "ipython",
    "version": 3
   },
   "file_extension": ".py",
   "mimetype": "text/x-python",
   "name": "python",
   "nbconvert_exporter": "python",
   "pygments_lexer": "ipython3",
   "version": "3.7.7"
  },
  "orig_nbformat": 4,
  "vscode": {
   "interpreter": {
    "hash": "252189e587d1e2aeba4a06e91fa71896c7a7f6e22e918b9407c7cde4ef2d5985"
   }
  }
 },
 "nbformat": 4,
 "nbformat_minor": 2
}
